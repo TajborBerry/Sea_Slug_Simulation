{
 "cells": [
  {
   "cell_type": "code",
   "execution_count": 120,
   "id": "4a3d3864",
   "metadata": {},
   "outputs": [],
   "source": [
    "import math\n",
    "import matplotlib.pyplot as plt\n",
    "import random\n",
    "import matplotlib.animation as animation\n",
    "from scipy.stats import t"
   ]
  },
  {
   "cell_type": "markdown",
   "id": "e84f03fc",
   "metadata": {},
   "source": [
    "## Created functions"
   ]
  },
  {
   "cell_type": "code",
   "execution_count": 121,
   "id": "c1f498e2",
   "metadata": {},
   "outputs": [],
   "source": [
    "def temp_health_penalty(temp):\n",
    "    if 3 <= temp <= 5:\n",
    "        return 0.1\n",
    "    return abs(temp - 4)**2 * 0.05\n",
    "\n",
    "def salinity_health_penalty(salinity):\n",
    "    sigma = 1.5\n",
    "    return 1 - math.exp(-((salinity - 34)**2) / (2 * sigma**2))\n",
    "\n",
    "def depth_health_penalty(depth):\n",
    "    if 50 <= depth <= 200:\n",
    "        return 0.1\n",
    "    return abs(depth - 125) / 100"
   ]
  },
  {
   "cell_type": "code",
   "execution_count": 122,
   "id": "199d80c2",
   "metadata": {},
   "outputs": [],
   "source": [
    "def hunt(df=4, scale=1.0, success_chance=0.8):\n",
    "    \"\"\"\n",
    "    Returns health gain from a hunting attempt.\n",
    "    - df: degrees of freedom for the t-distribution.\n",
    "    - scale: spread of the distribution (like std dev).\n",
    "    - success_chance: probability the slug successfully hunts that day.\n",
    "    \"\"\"\n",
    "    if random.random() > success_chance:\n",
    "        return 0  # Failed hunt = no gain\n",
    "    \n",
    "    # Sample from a t-distribution (heavy tails, centered around 0)\n",
    "    gain = t.rvs(df=df) * scale\n",
    "    \n",
    "    # Clamp to non-negative values (or optionally allow negative = exhaustion)\n",
    "    return max(0, round(gain, 2))"
   ]
  },
  {
   "cell_type": "code",
   "execution_count": 123,
   "id": "09c62247",
   "metadata": {},
   "outputs": [],
   "source": [
    "def daily_health_penalty(temp, salinity, depth):\n",
    "    \"\"\"\n",
    "    Calculates total daily health penalty based on environmental conditions.\n",
    "    \"\"\"\n",
    "    temp_penalty = temp_health_penalty(temp)\n",
    "    sal_penalty = salinity_health_penalty(salinity)\n",
    "    depth_penalty = depth_health_penalty(depth)\n",
    "    #print(temp_penalty,sal_penalty,depth_penalty)\n",
    "\n",
    "    return temp_penalty + sal_penalty + depth_penalty\n"
   ]
  },
  {
   "cell_type": "code",
   "execution_count": 153,
   "id": "f3e70927",
   "metadata": {},
   "outputs": [],
   "source": [
    "def daily_energy_change(temp, salinity, depth):\n",
    "    change = 10.0\n",
    "\n",
    "    # Temperature effect on energy (cold = sluggish, warm = overactive = energy loss)\n",
    "    if 3.5 <= temp <= 4.5:\n",
    "        change += 0.3  # Slight energy gain in optimal temp\n",
    "    elif temp < 2.5 or temp > 5.5:\n",
    "        change -= abs(temp - 4) * 1.5  # Strong energy penalty\n",
    "\n",
    "    # Salinity: stable salinity helps conserve energy\n",
    "    if 33.5 <= salinity <= 34.5:\n",
    "        change += 0.2\n",
    "    else:\n",
    "        change -= ((salinity - 34) ** 2) * 0.1\n",
    "\n",
    "    # Depth: going too deep costs energy, even if it's safe for health\n",
    "    if depth < 75 or depth > 175:\n",
    "        change -= abs(depth - 125) / 80  # penalty increases away from optimal\n",
    "    else:\n",
    "        change += 0.1  # gain in sweet spot\n",
    "\n",
    "    return round(change, 2)"
   ]
  },
  {
   "cell_type": "markdown",
   "id": "0460d08f",
   "metadata": {},
   "source": [
    "## Create the Sea Slug class"
   ]
  },
  {
   "cell_type": "code",
   "execution_count": 154,
   "id": "07ac6538",
   "metadata": {},
   "outputs": [],
   "source": [
    "class SeaSlug:\n",
    "    def __init__(self):\n",
    "        self.age = 0\n",
    "        self.health = 100.0\n",
    "        self.energy = 100.0\n",
    "        self.reproductive_success = 0\n",
    "        self.alive = True\n",
    "    def step(self, temp, salinity, depth):\n",
    "        if not self.alive:\n",
    "            return\n",
    "        \n",
    "        self.health = min(100, self.health + hunt())\n",
    "        penalty = daily_health_penalty(temp, salinity, depth) + (max(self.age-50,0) ** 2)/100\n",
    "        self.health -= penalty\n",
    "        change = daily_energy_change(temp, salinity, depth) - (max(self.age-40,0) ** 2) /100 \n",
    "        self.energy += change\n",
    "        self.energy = min(100, self.energy + hunt())\n",
    "\n",
    "        #resting\n",
    "        if self.energy > 90 and self.health < 30:\n",
    "            self.energy -= 10\n",
    "            self.health += 5\n",
    "\n",
    "\n",
    "        # Reproduction logic placeholder\n",
    "        if self.energy > 80 and self.health > 80 and self.age > 30:\n",
    "            self.reproductive_success += self.energy * self.health\n",
    "            self.energy -= 20\n",
    "\n",
    "        self.age += 1\n",
    "\n",
    "        if self.age > 100 or self.health <= 0 or self.energy <= 0:\n",
    "            self.alive = False\n"
   ]
  },
  {
   "cell_type": "markdown",
   "id": "c1b5caa7",
   "metadata": {},
   "source": [
    "## Simulate"
   ]
  },
  {
   "cell_type": "code",
   "execution_count": 155,
   "id": "791576ad",
   "metadata": {},
   "outputs": [],
   "source": [
    "slugs = [SeaSlug() for _ in range(1000)]\n",
    "\n",
    "for day in range(365 * 10):  # 10 years\n",
    "    for slug in slugs:\n",
    "        slug.step(temp=8, salinity=38.0, depth=100)\n",
    "\n",
    "# After simulation: analyze output\n",
    "lifespans = [slug.age for slug in slugs]\n",
    "energies = [slug.energy for slug in slugs]\n",
    "repro_rates = [slug.reproductive_success for slug in slugs]\n",
    "\n"
   ]
  },
  {
   "cell_type": "code",
   "execution_count": 156,
   "id": "aaa069b1",
   "metadata": {},
   "outputs": [
    {
     "name": "stdout",
     "output_type": "stream",
     "text": [
      "Average lifespan: 67.641\n",
      "Average energy: 63.22857999999999\n",
      "Average reproduction: 0.0\n"
     ]
    }
   ],
   "source": [
    "print(\"Average lifespan:\", sum(lifespans)/len(slugs))\n",
    "print(\"Average energy:\", sum(energies)/len(slugs))\n",
    "print(\"Average reproduction:\", sum(repro_rates)/len(slugs))\n"
   ]
  },
  {
   "cell_type": "markdown",
   "id": "c8c5066b",
   "metadata": {},
   "source": [
    "## Visualisation"
   ]
  },
  {
   "cell_type": "code",
   "execution_count": 157,
   "id": "e4cd34b8",
   "metadata": {},
   "outputs": [
    {
     "data": {
      "image/png": "[encoded data removed]",
      "text/plain": [
       "<Figure size 1000x600 with 1 Axes>"
      ]
     },
     "metadata": {},
     "output_type": "display_data"
    }
   ],
   "source": [
    "plt.figure(figsize=(10, 6))\n",
    "plt.hist(lifespans, bins=30, color='skyblue', edgecolor='black')\n",
    "plt.title(\"Distribution of Sea Slug Lifespans\")\n",
    "plt.xlabel(\"Lifespan (days)\")\n",
    "plt.ylabel(\"Number of Sea Slugs\")\n",
    "plt.grid(True, linestyle='--', alpha=0.6)\n",
    "plt.show()"
   ]
  },
  {
   "cell_type": "code",
   "execution_count": 129,
   "id": "98a37acc",
   "metadata": {},
   "outputs": [
    {
     "data": {
      "image/png": "[encoded data removed]",
      "text/plain": [
       "<Figure size 640x480 with 1 Axes>"
      ]
     },
     "metadata": {},
     "output_type": "display_data"
    }
   ],
   "source": [
    "# Setup\n",
    "fig, ax = plt.subplots()\n",
    "ax.set_xlim(0, 1)\n",
    "ax.set_ylim(0, 1.2)\n",
    "ax.axis('off')\n",
    "\n",
    "# Blob (the sea slug)\n",
    "blob = plt.Circle((0.5, 0.4), 0.2, fc='green')\n",
    "ax.add_patch(blob)\n",
    "\n",
    "# Health bar background\n",
    "bar_bg = plt.Rectangle((0.2, 1.0), 0.6, 0.05, color='lightgray')\n",
    "ax.add_patch(bar_bg)\n",
    "\n",
    "# Health bar foreground (this updates)\n",
    "bar_fg = plt.Rectangle((0.2, 1.0), 0.6, 0.05, color='green')\n",
    "ax.add_patch(bar_fg)\n",
    "\n",
    "# Health text\n",
    "health_text = ax.text(0.5, 1.07, \"Health: 100\", ha='center', va='bottom', fontsize=10)\n",
    "\n",
    "# Slug instance\n",
    "slug = SeaSlug()\n",
    "\n",
    "# Update function\n",
    "def update(frame):\n",
    "    slug.step(temp=4, salinity=34.0, depth=100)\n",
    "\n",
    "    # Update blob color\n",
    "    if not slug.alive:\n",
    "        color = 'black'\n",
    "    elif slug.health > 70:\n",
    "        color = 'green'\n",
    "    elif slug.health > 30:\n",
    "        color = 'orange'\n",
    "    else:\n",
    "        color = 'red'\n",
    "\n",
    "    blob.set_facecolor(color)\n",
    "\n",
    "    # Update health bar width and color\n",
    "    bar_width = max(slug.health / 100.0 * 0.6, 0)\n",
    "    bar_fg.set_width(bar_width)\n",
    "\n",
    "    if slug.health > 70:\n",
    "        bar_fg.set_color('green')\n",
    "    elif slug.health > 30:\n",
    "        bar_fg.set_color('orange')\n",
    "    else:\n",
    "        bar_fg.set_color('red')\n",
    "\n",
    "    # Update health text\n",
    "    health_text.set_text(f\"Health: {int(slug.health)}\")\n",
    "\n",
    "    return blob, bar_fg, health_text\n",
    "\n",
    "ani = animation.FuncAnimation(fig, update, frames=200, interval=100, blit=True)\n",
    "plt.show()\n"
   ]
  },
  {
   "cell_type": "code",
   "execution_count": null,
   "id": "837fe110",
   "metadata": {},
   "outputs": [],
   "source": []
  },
  {
   "cell_type": "markdown",
   "id": "7867ffa8",
   "metadata": {},
   "source": []
  }
 ],
 "metadata": {
  "kernelspec": {
   "display_name": "datascience_base",
   "language": "python",
   "name": "python3"
  },
  "language_info": {
   "codemirror_mode": {
    "name": "ipython",
    "version": 3
   },
   "file_extension": ".py",
   "mimetype": "text/x-python",
   "name": "python",
   "nbconvert_exporter": "python",
   "pygments_lexer": "ipython3",
   "version": "3.12.9"
  }
 },
 "nbformat": 4,
 "nbformat_minor": 5
}
